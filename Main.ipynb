{
 "cells": [
  {
   "cell_type": "code",
   "execution_count": 27,
   "id": "4eb3f04d",
   "metadata": {},
   "outputs": [],
   "source": [
    "import pandas as pd\n",
    "import numpy as np\n",
    "import seaborn as sns\n",
    "import matplotlib.pyplot as plt\n",
    "from sklearn.preprocessing import StandardScaler\n",
    "from sklearn.model_selection import train_test_split\n",
    "from sklearn.svm import SVC\n",
    "from sklearn.metrics import accuracy_score"
   ]
  },
  {
   "cell_type": "code",
   "execution_count": 28,
   "id": "afdd58d7",
   "metadata": {},
   "outputs": [],
   "source": [
    "pd.set_option('display.max_rows', None)\n",
    "pd.set_option('display.max_columns', None)\n",
    "pd.set_option('display.max_colwidth', None)"
   ]
  },
  {
   "cell_type": "markdown",
   "id": "ecbc094b",
   "metadata": {},
   "source": [
    "## Importação e limpeza dos dados"
   ]
  },
  {
   "cell_type": "code",
   "execution_count": 29,
   "id": "be3f9266",
   "metadata": {},
   "outputs": [],
   "source": [
    "dataset = pd.read_csv('Student Mental health.csv')\n",
    "dataset.drop('Timestamp', axis = 1, inplace = True) \n"
   ]
  },
  {
   "cell_type": "code",
   "execution_count": 30,
   "id": "161858c3",
   "metadata": {},
   "outputs": [],
   "source": [
    "a_renomear = {'Choose your gender': 'Gênero',\n",
    "             'Age': 'Idade',\n",
    "             'What is your course?': 'Curso',\n",
    "             'Your current year of Study': 'Tempo atual de estudo',\n",
    "             'What is your CGPA?': 'CGPA',\n",
    "             'Marital status': 'Estado cívil',\n",
    "             'Do you have Depression?': 'Você tem depressão?',\n",
    "             'Do you have Anxiety?': 'Você tem ansiedade?',\n",
    "             'Do you have Panic attack?': 'Você tem ataque de pânico?',\n",
    "             'Did you seek any specialist for a treatment?': 'Você já procurou tratamento?'}\n",
    "\n",
    "dataset = dataset.rename(columns = a_renomear)"
   ]
  },
  {
   "cell_type": "code",
   "execution_count": 31,
   "id": "da35bba5",
   "metadata": {},
   "outputs": [],
   "source": [
    "dataset.dropna(subset = ['Idade'], inplace = True)\n",
    "dataset.Idade = dataset.Idade.apply(np.int64)\n"
   ]
  },
  {
   "cell_type": "code",
   "execution_count": 32,
   "id": "f5bb96c2",
   "metadata": {},
   "outputs": [],
   "source": [
    "renomear_genero = {'Female': 'Feminino', 'Male': 'Masculino'}\n",
    "\n",
    "renomear_tempo_estudo = {\n",
    "    'year 1': 1,\n",
    "    'year 2': 2,\n",
    "    'Year 1': 1,\n",
    "    'year 3': 3,\n",
    "    'year 4': 4,\n",
    "    'Year 2': 2,\n",
    "    'Year 3': 3\n",
    "}\n",
    "\n",
    "renomear_estado_civil = {\n",
    "    'No': 'Solteiro(a)',\n",
    "    'Yes': 'Casado(a)'\n",
    "}\n",
    "\n",
    "renomear_sim_nao = {\n",
    "    'No': 'Não',\n",
    "    'Yes': 'Sim'\n",
    "}\n",
    "\n",
    "renomear_cgpa = {\n",
    "    '3.00 - 3.49': 'B',\n",
    "    '3.50 - 4.00': 'A',\n",
    "    '3.50 - 4.00 ': 'A',\n",
    "    '2.50 - 2.99': 'C',\n",
    "    '2.00 - 2.49': 'D',\n",
    "    '0 - 1.99': 'E'\n",
    "}\n",
    "\n",
    "dataset.CGPA = dataset.CGPA.map(renomear_cgpa)\n",
    "dataset['Você tem depressão?'] = dataset['Você tem depressão?'].map(renomear_sim_nao)\n",
    "dataset['Você tem ansiedade?'] = dataset['Você tem ansiedade?'].map(renomear_sim_nao)\n",
    "dataset['Você tem ataque de pânico?'] = dataset['Você tem ataque de pânico?'].map(renomear_sim_nao)\n",
    "dataset['Você já procurou tratamento?'] = dataset['Você já procurou tratamento?'].map(renomear_sim_nao)\n",
    "dataset.head()\n",
    "dataset['Gênero'] = dataset['Gênero'].map(renomear_genero)\n",
    "dataset['Tempo atual de estudo'] = dataset['Tempo atual de estudo'].map(renomear_tempo_estudo)\n",
    "dataset['Estado cívil'] = dataset['Estado cívil'].map(renomear_estado_civil)\n"
   ]
  },
  {
   "cell_type": "code",
   "execution_count": 33,
   "id": "c9b59c03",
   "metadata": {},
   "outputs": [
    {
     "data": {
      "text/html": [
       "<div>\n",
       "<style scoped>\n",
       "    .dataframe tbody tr th:only-of-type {\n",
       "        vertical-align: middle;\n",
       "    }\n",
       "\n",
       "    .dataframe tbody tr th {\n",
       "        vertical-align: top;\n",
       "    }\n",
       "\n",
       "    .dataframe thead th {\n",
       "        text-align: right;\n",
       "    }\n",
       "</style>\n",
       "<table border=\"1\" class=\"dataframe\">\n",
       "  <thead>\n",
       "    <tr style=\"text-align: right;\">\n",
       "      <th></th>\n",
       "      <th>Gênero</th>\n",
       "      <th>Idade</th>\n",
       "      <th>Curso</th>\n",
       "      <th>Tempo atual de estudo</th>\n",
       "      <th>CGPA</th>\n",
       "      <th>Estado cívil</th>\n",
       "      <th>Você tem depressão?</th>\n",
       "      <th>Você tem ansiedade?</th>\n",
       "      <th>Você tem ataque de pânico?</th>\n",
       "      <th>Você já procurou tratamento?</th>\n",
       "    </tr>\n",
       "  </thead>\n",
       "  <tbody>\n",
       "    <tr>\n",
       "      <th>0</th>\n",
       "      <td>Feminino</td>\n",
       "      <td>18</td>\n",
       "      <td>Engenharia</td>\n",
       "      <td>1</td>\n",
       "      <td>B</td>\n",
       "      <td>Solteiro(a)</td>\n",
       "      <td>Sim</td>\n",
       "      <td>Não</td>\n",
       "      <td>Sim</td>\n",
       "      <td>Não</td>\n",
       "    </tr>\n",
       "    <tr>\n",
       "      <th>1</th>\n",
       "      <td>Masculino</td>\n",
       "      <td>21</td>\n",
       "      <td>Educação Islâmica</td>\n",
       "      <td>2</td>\n",
       "      <td>B</td>\n",
       "      <td>Solteiro(a)</td>\n",
       "      <td>Não</td>\n",
       "      <td>Sim</td>\n",
       "      <td>Não</td>\n",
       "      <td>Não</td>\n",
       "    </tr>\n",
       "    <tr>\n",
       "      <th>2</th>\n",
       "      <td>Masculino</td>\n",
       "      <td>19</td>\n",
       "      <td>Bacharelado em Tecnologia da Informação</td>\n",
       "      <td>1</td>\n",
       "      <td>B</td>\n",
       "      <td>Solteiro(a)</td>\n",
       "      <td>Sim</td>\n",
       "      <td>Sim</td>\n",
       "      <td>Sim</td>\n",
       "      <td>Não</td>\n",
       "    </tr>\n",
       "    <tr>\n",
       "      <th>3</th>\n",
       "      <td>Feminino</td>\n",
       "      <td>22</td>\n",
       "      <td>Direito</td>\n",
       "      <td>3</td>\n",
       "      <td>B</td>\n",
       "      <td>Casado(a)</td>\n",
       "      <td>Sim</td>\n",
       "      <td>Não</td>\n",
       "      <td>Não</td>\n",
       "      <td>Não</td>\n",
       "    </tr>\n",
       "    <tr>\n",
       "      <th>4</th>\n",
       "      <td>Masculino</td>\n",
       "      <td>23</td>\n",
       "      <td>Matemática</td>\n",
       "      <td>4</td>\n",
       "      <td>B</td>\n",
       "      <td>Solteiro(a)</td>\n",
       "      <td>Não</td>\n",
       "      <td>Não</td>\n",
       "      <td>Não</td>\n",
       "      <td>Não</td>\n",
       "    </tr>\n",
       "  </tbody>\n",
       "</table>\n",
       "</div>"
      ],
      "text/plain": [
       "      Gênero  Idade                                    Curso  \\\n",
       "0   Feminino     18                               Engenharia   \n",
       "1  Masculino     21                        Educação Islâmica   \n",
       "2  Masculino     19  Bacharelado em Tecnologia da Informação   \n",
       "3   Feminino     22                                  Direito   \n",
       "4  Masculino     23                               Matemática   \n",
       "\n",
       "   Tempo atual de estudo CGPA Estado cívil Você tem depressão?  \\\n",
       "0                      1    B  Solteiro(a)                 Sim   \n",
       "1                      2    B  Solteiro(a)                 Não   \n",
       "2                      1    B  Solteiro(a)                 Sim   \n",
       "3                      3    B    Casado(a)                 Sim   \n",
       "4                      4    B  Solteiro(a)                 Não   \n",
       "\n",
       "  Você tem ansiedade? Você tem ataque de pânico? Você já procurou tratamento?  \n",
       "0                 Não                        Sim                          Não  \n",
       "1                 Sim                        Não                          Não  \n",
       "2                 Sim                        Sim                          Não  \n",
       "3                 Não                        Não                          Não  \n",
       "4                 Não                        Não                          Não  "
      ]
     },
     "execution_count": 33,
     "metadata": {},
     "output_type": "execute_result"
    }
   ],
   "source": [
    "\n",
    "renomear_cursos = { \n",
    "    'Engineering': 'Engenharia',\n",
    "    'Islamic education': 'Educação Islâmica',\n",
    "    'BIT': 'Bacharelado em Tecnologia da Informação',\n",
    "    'Laws': 'Direito',\n",
    "    'Mathemathics': 'Matemática',\n",
    "    'Pendidikan islam':'Estudos Eslâmicos',\n",
    "    'BCS': 'Ciência da Computação',\n",
    "    'Human Resources': 'Recursos Humanos',\n",
    "    'Irkhs': 'Conhecimento Islâmico Revelado',\n",
    "    'Psychology': 'Psicologia',\n",
    "    'KENMS': 'Economia e Administração',\n",
    "    'Accounting ': 'Contabilidade',\n",
    "    'ENM': 'Empreendedorismo',\n",
    "    'Marine science': 'Ciência Marinha',\n",
    "    'KOE': 'Engenharia',\n",
    "    'Banking Studies': 'Estudos Bancários',\n",
    "    'Business Administration': 'Administração',\n",
    "    'Law': 'Direito',\n",
    "    'KIRKHS': 'Conhecimento Islâmico Revelado',\n",
    "    'Usuluddin ': 'Estudos Eslâmicos',\n",
    "    'TAASL': 'Atleta',\n",
    "    'Engine': 'Engenharia',\n",
    "    'ALA': 'Biblioteconomia',\n",
    "    'Biomedical science': 'Biomedicina',\n",
    "    'koe': 'Engenharia',\n",
    "    'Kirkhs': 'Conhecimento Islâmico Revelado',\n",
    "    'BENL': 'Ciências Humanas',\n",
    "    'Benl': 'Ciências Humanas',\n",
    "    'IT': 'Tecnologia da Informação',\n",
    "    'CTS': 'Tecnologia da Informação',\n",
    "    'Biotechnology': 'Biotecnologia',\n",
    "    'Communication ': 'Comunicação',\n",
    "    'Diploma Nursing': 'Enfermagem',\n",
    "    'Pendidikan Islam ': 'Estudos Eslâmicos',\n",
    "    'Radiography': 'Radioterapia',\n",
    "    'psychology': 'Psicologia',\n",
    "    'Fiqh fatwa ': 'Direito',\n",
    "    'DIPLOMA TESL': 'Inglês',\n",
    "    'Koe': 'Engenharia',\n",
    "    'Fiqh': 'Direito',\n",
    "    'Islamic Education': 'Educação Islâmica',\n",
    "    'Nursing ': 'Enfermagem',\n",
    "    'Pendidikan Islam':'Estudos Eslâmicos',\n",
    "    'engin': 'Engenharia',\n",
    "    'Econs': 'Economia',\n",
    "    'MHSC': 'Ciências da Saúde',\n",
    "    'Kop': 'Psicologia',\n",
    "    'Human Sciences ': 'Ciências Humanas',\n",
    "    'Malcom': 'História'\n",
    "}\n",
    "dataset.Curso = dataset.Curso.map(renomear_cursos)\n",
    "dataset.head()"
   ]
  },
  {
   "cell_type": "markdown",
   "id": "bac946f6",
   "metadata": {},
   "source": [
    "## Análise de casos de depressão"
   ]
  },
  {
   "cell_type": "code",
   "execution_count": 34,
   "id": "0fffbfb9",
   "metadata": {},
   "outputs": [],
   "source": [
    "depressao_genero = pd.crosstab(dataset['Gênero'],\n",
    "                              dataset['Você tem depressão?'],\n",
    "                              )\n",
    "depressao_genero['Total'] = depressao_genero.sum(axis=1)\n",
    "\n",
    "depressao_genero['Não %'] = ((depressao_genero['Não']/depressao_genero['Total'])*100).round(2)\n",
    "depressao_genero['Sim %'] = ((depressao_genero['Sim']/depressao_genero['Total'])*100).round(2)\n"
   ]
  },
  {
   "cell_type": "code",
   "execution_count": 35,
   "id": "7044cca5",
   "metadata": {},
   "outputs": [
    {
     "data": {
      "text/plain": [
       "<AxesSubplot:title={'center':'Porcentagem de mulheres que sofrem com depressão'}, ylabel='Feminino'>"
      ]
     },
     "execution_count": 35,
     "metadata": {},
     "output_type": "execute_result"
    },
    {
     "data": {
      "image/png": "[encoded data removed]",
      "text/plain": [
       "<Figure size 432x288 with 1 Axes>"
      ]
     },
     "metadata": {},
     "output_type": "display_data"
    }
   ],
   "source": [
    "grafico_feminino = depressao_genero.loc['Feminino']\n",
    "grafico_feminino = grafico_feminino['Não %':'Sim %']\n",
    "grafico_feminino.plot(kind = 'pie', \n",
    "                      title = 'Porcentagem de mulheres que sofrem com depressão', \n",
    "                      autopct = '%1.0f%%'\n",
    "                     )"
   ]
  },
  {
   "cell_type": "code",
   "execution_count": 36,
   "id": "5ab7a3c8",
   "metadata": {},
   "outputs": [
    {
     "data": {
      "text/plain": [
       "<AxesSubplot:title={'center':'Porcentagem de Homens que sofrem com depressão'}, ylabel='Masculino'>"
      ]
     },
     "execution_count": 36,
     "metadata": {},
     "output_type": "execute_result"
    },
    {
     "data": {
      "image/png": "[encoded data removed]",
      "text/plain": [
       "<Figure size 432x288 with 1 Axes>"
      ]
     },
     "metadata": {},
     "output_type": "display_data"
    }
   ],
   "source": [
    "grafico_masculino = depressao_genero.loc['Masculino']\n",
    "grafico_masculino = grafico_masculino['Não %':'Sim %']\n",
    "grafico_masculino.plot(kind = 'pie', title = 'Porcentagem de Homens que sofrem com depressão', autopct = '%1.0f%%')"
   ]
  },
  {
   "cell_type": "markdown",
   "id": "698a9f6a",
   "metadata": {},
   "source": [
    "## Podemos percerber que a porcentagem de mulheres com depressão é superior a de homens"
   ]
  },
  {
   "cell_type": "code",
   "execution_count": 37,
   "id": "298e0a72",
   "metadata": {},
   "outputs": [
    {
     "data": {
      "text/html": [
       "<div>\n",
       "<style scoped>\n",
       "    .dataframe tbody tr th:only-of-type {\n",
       "        vertical-align: middle;\n",
       "    }\n",
       "\n",
       "    .dataframe tbody tr th {\n",
       "        vertical-align: top;\n",
       "    }\n",
       "\n",
       "    .dataframe thead th {\n",
       "        text-align: right;\n",
       "    }\n",
       "</style>\n",
       "<table border=\"1\" class=\"dataframe\">\n",
       "  <thead>\n",
       "    <tr style=\"text-align: right;\">\n",
       "      <th></th>\n",
       "      <th>Estado cívil</th>\n",
       "      <th>Casado(a)</th>\n",
       "      <th>Solteiro(a)</th>\n",
       "    </tr>\n",
       "    <tr>\n",
       "      <th>Gênero</th>\n",
       "      <th>Você tem depressão?</th>\n",
       "      <th></th>\n",
       "      <th></th>\n",
       "    </tr>\n",
       "  </thead>\n",
       "  <tbody>\n",
       "    <tr>\n",
       "      <th rowspan=\"2\" valign=\"top\">Feminino</th>\n",
       "      <th>Não</th>\n",
       "      <td>0</td>\n",
       "      <td>46</td>\n",
       "    </tr>\n",
       "    <tr>\n",
       "      <th>Sim</th>\n",
       "      <td>13</td>\n",
       "      <td>16</td>\n",
       "    </tr>\n",
       "    <tr>\n",
       "      <th rowspan=\"2\" valign=\"top\">Masculino</th>\n",
       "      <th>Não</th>\n",
       "      <td>0</td>\n",
       "      <td>19</td>\n",
       "    </tr>\n",
       "    <tr>\n",
       "      <th>Sim</th>\n",
       "      <td>3</td>\n",
       "      <td>3</td>\n",
       "    </tr>\n",
       "  </tbody>\n",
       "</table>\n",
       "</div>"
      ],
      "text/plain": [
       "Estado cívil                   Casado(a)  Solteiro(a)\n",
       "Gênero    Você tem depressão?                        \n",
       "Feminino  Não                          0           46\n",
       "          Sim                         13           16\n",
       "Masculino Não                          0           19\n",
       "          Sim                          3            3"
      ]
     },
     "execution_count": 37,
     "metadata": {},
     "output_type": "execute_result"
    }
   ],
   "source": [
    "depressao_genero_casamento = pd.crosstab([dataset['Gênero'],dataset['Você tem depressão?']],\n",
    "                                dataset['Estado cívil']                             ,\n",
    "                              )\n",
    "depressao_genero_casamento"
   ]
  },
  {
   "cell_type": "markdown",
   "id": "36e26f70",
   "metadata": {},
   "source": [
    "## Podemos perceber que todos as pessoas casadas, dessa amostra, sofrem com a depressão!"
   ]
  },
  {
   "cell_type": "code",
   "execution_count": 38,
   "id": "99a2b840",
   "metadata": {},
   "outputs": [
    {
     "data": {
      "image/png": "[encoded data removed]",
      "text/plain": [
       "<Figure size 432x288 with 1 Axes>"
      ]
     },
     "metadata": {},
     "output_type": "display_data"
    }
   ],
   "source": [
    "exatas = ['Engenharia', \n",
    "          'Bacharelado em Tecnologia da Informação', \n",
    "          'Matemática', 'Ciência da Computação', \n",
    "          'Tecnologia da Informação',\n",
    "         'Economia',\n",
    "          'Contabilidade'\n",
    "         ]\n",
    "cursos_exatas = dataset.assign(**{'Exatas': dataset['Curso'].isin(exatas)})\n",
    "cursos_exatas = cursos_exatas[cursos_exatas['Exatas'] == True]\n",
    "\n",
    "exatas_depressao = cursos_exatas['Você tem ansiedade?'].value_counts()\n",
    "\n",
    "exatas_depressao['Total'] = exatas_depressao.sum()\n",
    "\n",
    "exatas_depressao['Não %'] = ((exatas_depressao['Não']/exatas_depressao['Total'])*100).round(2)\n",
    "exatas_depressao['Sim %'] = ((exatas_depressao['Sim']/exatas_depressao['Total'])*100).round(2)\n",
    "\n",
    "exatas_depressao = exatas_depressao['Não %': 'Sim %']\n",
    "grafico_exatas_depressao = exatas_depressao.plot(kind = 'pie', \n",
    "                                                 autopct = '%1.0f%%', \n",
    "                                                 title = 'Porcentagem de alunos de exatas que sofrem com depressão')"
   ]
  },
  {
   "cell_type": "markdown",
   "id": "09afb58a",
   "metadata": {},
   "source": [
    "## Idade média dos estudantes com depressão. "
   ]
  },
  {
   "cell_type": "code",
   "execution_count": 39,
   "id": "0b5eb05d",
   "metadata": {},
   "outputs": [
    {
     "data": {
      "text/html": [
       "<div>\n",
       "<style scoped>\n",
       "    .dataframe tbody tr th:only-of-type {\n",
       "        vertical-align: middle;\n",
       "    }\n",
       "\n",
       "    .dataframe tbody tr th {\n",
       "        vertical-align: top;\n",
       "    }\n",
       "\n",
       "    .dataframe thead th {\n",
       "        text-align: right;\n",
       "    }\n",
       "</style>\n",
       "<table border=\"1\" class=\"dataframe\">\n",
       "  <thead>\n",
       "    <tr style=\"text-align: right;\">\n",
       "      <th></th>\n",
       "      <th>Gênero</th>\n",
       "      <th>Idade</th>\n",
       "      <th>Curso</th>\n",
       "      <th>Tempo atual de estudo</th>\n",
       "      <th>CGPA</th>\n",
       "      <th>Estado cívil</th>\n",
       "      <th>Você tem depressão?</th>\n",
       "      <th>Você tem ansiedade?</th>\n",
       "      <th>Você tem ataque de pânico?</th>\n",
       "      <th>Você já procurou tratamento?</th>\n",
       "    </tr>\n",
       "  </thead>\n",
       "  <tbody>\n",
       "    <tr>\n",
       "      <th>0</th>\n",
       "      <td>Feminino</td>\n",
       "      <td>18</td>\n",
       "      <td>Engenharia</td>\n",
       "      <td>1</td>\n",
       "      <td>B</td>\n",
       "      <td>Solteiro(a)</td>\n",
       "      <td>Sim</td>\n",
       "      <td>Não</td>\n",
       "      <td>Sim</td>\n",
       "      <td>Não</td>\n",
       "    </tr>\n",
       "    <tr>\n",
       "      <th>1</th>\n",
       "      <td>Masculino</td>\n",
       "      <td>21</td>\n",
       "      <td>Educação Islâmica</td>\n",
       "      <td>2</td>\n",
       "      <td>B</td>\n",
       "      <td>Solteiro(a)</td>\n",
       "      <td>Não</td>\n",
       "      <td>Sim</td>\n",
       "      <td>Não</td>\n",
       "      <td>Não</td>\n",
       "    </tr>\n",
       "    <tr>\n",
       "      <th>2</th>\n",
       "      <td>Masculino</td>\n",
       "      <td>19</td>\n",
       "      <td>Bacharelado em Tecnologia da Informação</td>\n",
       "      <td>1</td>\n",
       "      <td>B</td>\n",
       "      <td>Solteiro(a)</td>\n",
       "      <td>Sim</td>\n",
       "      <td>Sim</td>\n",
       "      <td>Sim</td>\n",
       "      <td>Não</td>\n",
       "    </tr>\n",
       "    <tr>\n",
       "      <th>3</th>\n",
       "      <td>Feminino</td>\n",
       "      <td>22</td>\n",
       "      <td>Direito</td>\n",
       "      <td>3</td>\n",
       "      <td>B</td>\n",
       "      <td>Casado(a)</td>\n",
       "      <td>Sim</td>\n",
       "      <td>Não</td>\n",
       "      <td>Não</td>\n",
       "      <td>Não</td>\n",
       "    </tr>\n",
       "    <tr>\n",
       "      <th>4</th>\n",
       "      <td>Masculino</td>\n",
       "      <td>23</td>\n",
       "      <td>Matemática</td>\n",
       "      <td>4</td>\n",
       "      <td>B</td>\n",
       "      <td>Solteiro(a)</td>\n",
       "      <td>Não</td>\n",
       "      <td>Não</td>\n",
       "      <td>Não</td>\n",
       "      <td>Não</td>\n",
       "    </tr>\n",
       "  </tbody>\n",
       "</table>\n",
       "</div>"
      ],
      "text/plain": [
       "      Gênero  Idade                                    Curso  \\\n",
       "0   Feminino     18                               Engenharia   \n",
       "1  Masculino     21                        Educação Islâmica   \n",
       "2  Masculino     19  Bacharelado em Tecnologia da Informação   \n",
       "3   Feminino     22                                  Direito   \n",
       "4  Masculino     23                               Matemática   \n",
       "\n",
       "   Tempo atual de estudo CGPA Estado cívil Você tem depressão?  \\\n",
       "0                      1    B  Solteiro(a)                 Sim   \n",
       "1                      2    B  Solteiro(a)                 Não   \n",
       "2                      1    B  Solteiro(a)                 Sim   \n",
       "3                      3    B    Casado(a)                 Sim   \n",
       "4                      4    B  Solteiro(a)                 Não   \n",
       "\n",
       "  Você tem ansiedade? Você tem ataque de pânico? Você já procurou tratamento?  \n",
       "0                 Não                        Sim                          Não  \n",
       "1                 Sim                        Não                          Não  \n",
       "2                 Sim                        Sim                          Não  \n",
       "3                 Não                        Não                          Não  \n",
       "4                 Não                        Não                          Não  "
      ]
     },
     "execution_count": 39,
     "metadata": {},
     "output_type": "execute_result"
    }
   ],
   "source": [
    "dataset.head()"
   ]
  },
  {
   "cell_type": "code",
   "execution_count": 40,
   "id": "3390c699",
   "metadata": {},
   "outputs": [
    {
     "data": {
      "text/html": [
       "<div>\n",
       "<style scoped>\n",
       "    .dataframe tbody tr th:only-of-type {\n",
       "        vertical-align: middle;\n",
       "    }\n",
       "\n",
       "    .dataframe tbody tr th {\n",
       "        vertical-align: top;\n",
       "    }\n",
       "\n",
       "    .dataframe thead th {\n",
       "        text-align: right;\n",
       "    }\n",
       "</style>\n",
       "<table border=\"1\" class=\"dataframe\">\n",
       "  <thead>\n",
       "    <tr style=\"text-align: right;\">\n",
       "      <th></th>\n",
       "      <th>Gênero</th>\n",
       "      <th>Idade</th>\n",
       "      <th>Curso</th>\n",
       "      <th>Tempo atual de estudo</th>\n",
       "      <th>CGPA</th>\n",
       "      <th>Estado cívil</th>\n",
       "      <th>Você tem depressão?</th>\n",
       "      <th>Você tem ansiedade?</th>\n",
       "      <th>Você tem ataque de pânico?</th>\n",
       "      <th>Você já procurou tratamento?</th>\n",
       "    </tr>\n",
       "  </thead>\n",
       "  <tbody>\n",
       "    <tr>\n",
       "      <th>0</th>\n",
       "      <td>Feminino</td>\n",
       "      <td>18</td>\n",
       "      <td>Engenharia</td>\n",
       "      <td>1</td>\n",
       "      <td>B</td>\n",
       "      <td>Solteiro(a)</td>\n",
       "      <td>Sim</td>\n",
       "      <td>Não</td>\n",
       "      <td>Sim</td>\n",
       "      <td>Não</td>\n",
       "    </tr>\n",
       "    <tr>\n",
       "      <th>2</th>\n",
       "      <td>Masculino</td>\n",
       "      <td>19</td>\n",
       "      <td>Bacharelado em Tecnologia da Informação</td>\n",
       "      <td>1</td>\n",
       "      <td>B</td>\n",
       "      <td>Solteiro(a)</td>\n",
       "      <td>Sim</td>\n",
       "      <td>Sim</td>\n",
       "      <td>Sim</td>\n",
       "      <td>Não</td>\n",
       "    </tr>\n",
       "    <tr>\n",
       "      <th>3</th>\n",
       "      <td>Feminino</td>\n",
       "      <td>22</td>\n",
       "      <td>Direito</td>\n",
       "      <td>3</td>\n",
       "      <td>B</td>\n",
       "      <td>Casado(a)</td>\n",
       "      <td>Sim</td>\n",
       "      <td>Não</td>\n",
       "      <td>Não</td>\n",
       "      <td>Não</td>\n",
       "    </tr>\n",
       "    <tr>\n",
       "      <th>6</th>\n",
       "      <td>Feminino</td>\n",
       "      <td>23</td>\n",
       "      <td>Estudos Eslâmicos</td>\n",
       "      <td>2</td>\n",
       "      <td>A</td>\n",
       "      <td>Casado(a)</td>\n",
       "      <td>Sim</td>\n",
       "      <td>Não</td>\n",
       "      <td>Sim</td>\n",
       "      <td>Não</td>\n",
       "    </tr>\n",
       "    <tr>\n",
       "      <th>11</th>\n",
       "      <td>Feminino</td>\n",
       "      <td>24</td>\n",
       "      <td>Engenharia</td>\n",
       "      <td>3</td>\n",
       "      <td>A</td>\n",
       "      <td>Casado(a)</td>\n",
       "      <td>Sim</td>\n",
       "      <td>Não</td>\n",
       "      <td>Não</td>\n",
       "      <td>Não</td>\n",
       "    </tr>\n",
       "  </tbody>\n",
       "</table>\n",
       "</div>"
      ],
      "text/plain": [
       "       Gênero  Idade                                    Curso  \\\n",
       "0    Feminino     18                               Engenharia   \n",
       "2   Masculino     19  Bacharelado em Tecnologia da Informação   \n",
       "3    Feminino     22                                  Direito   \n",
       "6    Feminino     23                        Estudos Eslâmicos   \n",
       "11   Feminino     24                               Engenharia   \n",
       "\n",
       "    Tempo atual de estudo CGPA Estado cívil Você tem depressão?  \\\n",
       "0                       1    B  Solteiro(a)                 Sim   \n",
       "2                       1    B  Solteiro(a)                 Sim   \n",
       "3                       3    B    Casado(a)                 Sim   \n",
       "6                       2    A    Casado(a)                 Sim   \n",
       "11                      3    A    Casado(a)                 Sim   \n",
       "\n",
       "   Você tem ansiedade? Você tem ataque de pânico? Você já procurou tratamento?  \n",
       "0                  Não                        Sim                          Não  \n",
       "2                  Sim                        Sim                          Não  \n",
       "3                  Não                        Não                          Não  \n",
       "6                  Não                        Sim                          Não  \n",
       "11                 Não                        Não                          Não  "
      ]
     },
     "execution_count": 40,
     "metadata": {},
     "output_type": "execute_result"
    }
   ],
   "source": [
    "estudantes_depressao = dataset[dataset['Você tem depressão?'] == 'Sim']\n",
    "estudantes_depressao.head()"
   ]
  },
  {
   "cell_type": "code",
   "execution_count": 41,
   "id": "2f92fdbc",
   "metadata": {},
   "outputs": [
    {
     "data": {
      "text/plain": [
       "count    35.000000\n",
       "mean     20.285714\n",
       "std       2.395724\n",
       "min      18.000000\n",
       "25%      18.000000\n",
       "50%      19.000000\n",
       "75%      23.000000\n",
       "max      24.000000\n",
       "Name: Idade, dtype: float64"
      ]
     },
     "execution_count": 41,
     "metadata": {},
     "output_type": "execute_result"
    }
   ],
   "source": [
    "estudantes_depressao.Idade.describe()"
   ]
  },
  {
   "cell_type": "code",
   "execution_count": 42,
   "id": "4c85edef",
   "metadata": {},
   "outputs": [
    {
     "data": {
      "image/png": "[encoded data removed]",
      "text/plain": [
       "<Figure size 432x288 with 1 Axes>"
      ]
     },
     "metadata": {
      "needs_background": "light"
     },
     "output_type": "display_data"
    }
   ],
   "source": [
    "grafico_idade_depressao = sns.boxplot(x  = 'Idade', data = estudantes_depressao, orient = 'h')"
   ]
  },
  {
   "cell_type": "markdown",
   "id": "f99020e0",
   "metadata": {},
   "source": [
    "## Podemos ver que a vaiável Idade é assimétrica a direita e não possui outliers relevantes."
   ]
  },
  {
   "cell_type": "code",
   "execution_count": 43,
   "id": "40cbe48e",
   "metadata": {},
   "outputs": [
    {
     "data": {
      "text/plain": [
       "20"
      ]
     },
     "execution_count": 43,
     "metadata": {},
     "output_type": "execute_result"
    }
   ],
   "source": [
    "idade_media = estudantes_depressao.Idade.mean()\n",
    "round(idade_media)"
   ]
  },
  {
   "cell_type": "code",
   "execution_count": 44,
   "id": "fb81b02a",
   "metadata": {},
   "outputs": [
    {
     "name": "stdout",
     "output_type": "stream",
     "text": [
      "A idade média dos alunos que sofrem com depresão é de 20 anos.\n"
     ]
    }
   ],
   "source": [
    "print(f'A idade média dos alunos que sofrem com depresão é de {round(idade_media)} anos.')"
   ]
  },
  {
   "cell_type": "code",
   "execution_count": 45,
   "id": "b38b1975",
   "metadata": {},
   "outputs": [],
   "source": [
    "from scipy.stats import ranksums"
   ]
  },
  {
   "cell_type": "code",
   "execution_count": 46,
   "id": "2f127558",
   "metadata": {},
   "outputs": [
    {
     "data": {
      "text/plain": [
       "RanksumsResult(statistic=0.24433888871261045, pvalue=0.806968367170738)"
      ]
     },
     "execution_count": 46,
     "metadata": {},
     "output_type": "execute_result"
    }
   ],
   "source": [
    "depressao = dataset['Você tem depressão?']\n",
    "ataque_panico = dataset['Você tem ataque de pânico?']\n",
    "ansiedade = dataset['Você tem ansiedade?']\n",
    "\n",
    "ranksums(depressao, ataque_panico)"
   ]
  },
  {
   "cell_type": "code",
   "execution_count": 47,
   "id": "511dc4c4",
   "metadata": {},
   "outputs": [
    {
     "data": {
      "text/plain": [
       "RanksumsResult(statistic=0.12216944435630522, pvalue=0.9027648250246225)"
      ]
     },
     "execution_count": 47,
     "metadata": {},
     "output_type": "execute_result"
    }
   ],
   "source": [
    "ranksums(depressao, ansiedade)"
   ]
  },
  {
   "cell_type": "code",
   "execution_count": 48,
   "id": "ea6f0497",
   "metadata": {},
   "outputs": [
    {
     "data": {
      "text/plain": [
       "RanksumsResult(statistic=0.12216944435630522, pvalue=0.9027648250246225)"
      ]
     },
     "execution_count": 48,
     "metadata": {},
     "output_type": "execute_result"
    }
   ],
   "source": [
    "ranksums(ansiedade, ataque_panico)"
   ]
  },
  {
   "cell_type": "markdown",
   "id": "cfa89756",
   "metadata": {},
   "source": [
    "## Como o p-value de todos os casos foram superiores a 0.8, posso considerar que as análises feitas pelos casos envolvendo depressão seriam muito semelhantes para ansiedade e ataque de pânico."
   ]
  },
  {
   "cell_type": "markdown",
   "id": "be122219",
   "metadata": {},
   "source": [
    "## Criando um modelo de previsões"
   ]
  },
  {
   "cell_type": "code",
   "execution_count": 49,
   "id": "069bbba5",
   "metadata": {},
   "outputs": [],
   "source": [
    "dataset_previsao = dataset.copy()\n"
   ]
  },
  {
   "cell_type": "code",
   "execution_count": 50,
   "id": "666aad84",
   "metadata": {},
   "outputs": [
    {
     "data": {
      "text/html": [
       "<div>\n",
       "<style scoped>\n",
       "    .dataframe tbody tr th:only-of-type {\n",
       "        vertical-align: middle;\n",
       "    }\n",
       "\n",
       "    .dataframe tbody tr th {\n",
       "        vertical-align: top;\n",
       "    }\n",
       "\n",
       "    .dataframe thead th {\n",
       "        text-align: right;\n",
       "    }\n",
       "</style>\n",
       "<table border=\"1\" class=\"dataframe\">\n",
       "  <thead>\n",
       "    <tr style=\"text-align: right;\">\n",
       "      <th></th>\n",
       "      <th>Gênero</th>\n",
       "      <th>Idade</th>\n",
       "      <th>Curso</th>\n",
       "      <th>Tempo atual de estudo</th>\n",
       "      <th>CGPA</th>\n",
       "      <th>Estado cívil</th>\n",
       "      <th>Você tem depressão?</th>\n",
       "      <th>Você tem ansiedade?</th>\n",
       "      <th>Você tem ataque de pânico?</th>\n",
       "    </tr>\n",
       "  </thead>\n",
       "  <tbody>\n",
       "    <tr>\n",
       "      <th>0</th>\n",
       "      <td>1</td>\n",
       "      <td>18</td>\n",
       "      <td>0</td>\n",
       "      <td>1</td>\n",
       "      <td>5</td>\n",
       "      <td>0</td>\n",
       "      <td>1</td>\n",
       "      <td>0</td>\n",
       "      <td>1</td>\n",
       "    </tr>\n",
       "    <tr>\n",
       "      <th>1</th>\n",
       "      <td>0</td>\n",
       "      <td>21</td>\n",
       "      <td>1</td>\n",
       "      <td>2</td>\n",
       "      <td>5</td>\n",
       "      <td>0</td>\n",
       "      <td>0</td>\n",
       "      <td>1</td>\n",
       "      <td>0</td>\n",
       "    </tr>\n",
       "    <tr>\n",
       "      <th>2</th>\n",
       "      <td>0</td>\n",
       "      <td>19</td>\n",
       "      <td>2</td>\n",
       "      <td>1</td>\n",
       "      <td>5</td>\n",
       "      <td>0</td>\n",
       "      <td>1</td>\n",
       "      <td>1</td>\n",
       "      <td>1</td>\n",
       "    </tr>\n",
       "    <tr>\n",
       "      <th>3</th>\n",
       "      <td>1</td>\n",
       "      <td>22</td>\n",
       "      <td>3</td>\n",
       "      <td>3</td>\n",
       "      <td>5</td>\n",
       "      <td>1</td>\n",
       "      <td>1</td>\n",
       "      <td>0</td>\n",
       "      <td>0</td>\n",
       "    </tr>\n",
       "    <tr>\n",
       "      <th>4</th>\n",
       "      <td>0</td>\n",
       "      <td>23</td>\n",
       "      <td>4</td>\n",
       "      <td>4</td>\n",
       "      <td>5</td>\n",
       "      <td>0</td>\n",
       "      <td>0</td>\n",
       "      <td>0</td>\n",
       "      <td>0</td>\n",
       "    </tr>\n",
       "  </tbody>\n",
       "</table>\n",
       "</div>"
      ],
      "text/plain": [
       "   Gênero  Idade  Curso  Tempo atual de estudo  CGPA  Estado cívil  \\\n",
       "0       1     18      0                      1     5             0   \n",
       "1       0     21      1                      2     5             0   \n",
       "2       0     19      2                      1     5             0   \n",
       "3       1     22      3                      3     5             1   \n",
       "4       0     23      4                      4     5             0   \n",
       "\n",
       "   Você tem depressão?  Você tem ansiedade?  Você tem ataque de pânico?  \n",
       "0                    1                    0                           1  \n",
       "1                    0                    1                           0  \n",
       "2                    1                    1                           1  \n",
       "3                    1                    0                           0  \n",
       "4                    0                    0                           0  "
      ]
     },
     "execution_count": 50,
     "metadata": {},
     "output_type": "execute_result"
    }
   ],
   "source": [
    "renomear_sim_nao_previsao = {\n",
    "    'Sim': 1 ,\n",
    "    'Não': 0\n",
    "}\n",
    "\n",
    "renomear_cgpa = {\n",
    "    'B': 5 ,\n",
    "    'A': 4 ,\n",
    "    'C': 2 ,\n",
    "    'D': 1 ,\n",
    "    'E': 0 ,\n",
    "    \n",
    "}\n",
    "\n",
    "renomear_estado_civil = {\n",
    "    'Solteiro(a)': 0 ,\n",
    "    'Casado(a)': 1 \n",
    "}\n",
    "\n",
    "renomear_genero = {'Feminino': 1 , \n",
    "                   'Masculino': 0}\n",
    "\n",
    "renomear_curso = {\n",
    "    'Engenharia': 0,\n",
    "    'Educação Islâmica': 1,\n",
    "    'Bacharelado em Tecnologia da Informação': 2,\n",
    "    'Direito': 3,\n",
    "    'Matemática': 4,\n",
    "    'Estudos Eslâmicos': 5,\n",
    "    'Ciência da Computação': 6,\n",
    "    'Recursos Humanos': 7,\n",
    "    'Conhecimento Islâmico Revelado': 8,\n",
    "    'Psicologia': 9,\n",
    "    'Economia e Administração': 10,\n",
    "    'Contabilidade': 11,\n",
    "    'Empreendedorismo': 12,\n",
    "    'Ciência Marinha': 13,\n",
    "    'Estudos Bancários': 14,\n",
    "    'Administração': 15,\n",
    "    'Atleta': 16,\n",
    "    'Biblioteconomia': 17,\n",
    "    'Biomedicina': 18,\n",
    "    'Ciências Humanas': 19,\n",
    "    'Tecnologia da Informação': 20,\n",
    "    'Economia': 21,\n",
    "    'Ciências da Saúde': 22,\n",
    "    'História': 23,\n",
    "    'Biotecnologia': 24,\n",
    "    'Comunicação': 25,\n",
    "    'Enfermagem': 26,\n",
    "    'Radioterapia': 27,\n",
    "    'Inglês': 28\n",
    "}\n",
    "\n",
    "\n",
    "dataset_previsao['Gênero'] = dataset_previsao['Gênero'].map(renomear_genero)\n",
    "dataset_previsao.CGPA = dataset_previsao.CGPA.map(renomear_cgpa)\n",
    "dataset_previsao['Estado cívil'] = dataset_previsao['Estado cívil'].map(renomear_estado_civil)\n",
    "dataset_previsao['Você tem depressão?'] = dataset_previsao['Você tem depressão?'].map(renomear_sim_nao_previsao)\n",
    "dataset_previsao['Você tem ansiedade?'] = dataset_previsao['Você tem ansiedade?'].map(renomear_sim_nao_previsao)\n",
    "dataset_previsao['Você tem ataque de pânico?'] = dataset_previsao['Você tem ataque de pânico?'].map(renomear_sim_nao_previsao)\n",
    "\n",
    "dataset_previsao['Curso'] = dataset_previsao['Curso'].map(renomear_curso) \n",
    "\n",
    "dataset_previsao = dataset_previsao.drop('Você já procurou tratamento?', axis=1)\n",
    "\n",
    "dataset_previsao.head()"
   ]
  },
  {
   "cell_type": "code",
   "execution_count": 51,
   "id": "c814b965",
   "metadata": {},
   "outputs": [],
   "source": [
    "x = dataset_previsao[['Gênero', \n",
    "                      'Idade', \n",
    "                      'Curso', \n",
    "                      'Tempo atual de estudo', \n",
    "                      'CGPA', 'Estado cívil', \n",
    "                      'Você tem ansiedade?',\n",
    "                      'Você tem ataque de pânico?']]\n",
    "y = dataset_previsao['Você tem depressão?']"
   ]
  },
  {
   "cell_type": "code",
   "execution_count": 52,
   "id": "8f2eadab",
   "metadata": {},
   "outputs": [
    {
     "name": "stdout",
     "output_type": "stream",
     "text": [
      "Treinaremos com 75 elementos e testaremos com 25 elementos\n",
      "A acurácia foi 80.00%\n"
     ]
    }
   ],
   "source": [
    "\n",
    "SEED = 5\n",
    "scaler = StandardScaler()\n",
    "scaler.fit(raw_treino_x)\n",
    "treino_x = scaler.transform(raw_treino_x)\n",
    "teste_x = scaler.transform(raw_teste_x)\n",
    "np.random.seed(SEED)\n",
    "raw_treino_x, raw_teste_x, treino_y, teste_y = train_test_split(x, y, test_size = 0.25,\n",
    "                                                         stratify = y)\n",
    "print(\"Treinaremos com %d elementos e testaremos com %d elementos\" % (len(treino_x), len(teste_x)))\n",
    "\n",
    "\n",
    "\n",
    "modelo = SVC()\n",
    "modelo.fit(treino_x, treino_y)\n",
    "previsoes = modelo.predict(teste_x)\n",
    "\n",
    "acuracia = accuracy_score(teste_y, previsoes) * 100\n",
    "print(\"A acurácia foi %.2f%%\" % acuracia)"
   ]
  },
  {
   "cell_type": "code",
   "execution_count": null,
   "id": "7397cd7b",
   "metadata": {},
   "outputs": [],
   "source": []
  },
  {
   "cell_type": "code",
   "execution_count": null,
   "id": "340458a2",
   "metadata": {},
   "outputs": [],
   "source": []
  }
 ],
 "metadata": {
  "kernelspec": {
   "display_name": "Python 3 (ipykernel)",
   "language": "python",
   "name": "python3"
  },
  "language_info": {
   "codemirror_mode": {
    "name": "ipython",
    "version": 3
   },
   "file_extension": ".py",
   "mimetype": "text/x-python",
   "name": "python",
   "nbconvert_exporter": "python",
   "pygments_lexer": "ipython3",
   "version": "3.9.7"
  }
 },
 "nbformat": 4,
 "nbformat_minor": 5
}
